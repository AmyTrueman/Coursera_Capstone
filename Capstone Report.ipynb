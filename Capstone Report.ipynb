{
    "cells": [
        {
            "cell_type": "markdown",
            "metadata": {
                "collapsed": true
            },
            "source": "<p style=\"text-align: center; font-size: 32pt;\">INVESTING IN MANCHESTER\u2019S SUBURBS</p>\n<p style=\"text-align: center; font-size: 24pt;\">AMY TRUEMAN</p>\n<p style=\"text-align: center; font-size: 16pt;\">2nd August 2020</p>\n"
        },
        {
            "cell_type": "markdown",
            "metadata": {},
            "source": "<p style=\"font-size: 14pt; font-weight: bold;\">1. Introduction </p>\n<p style=\"font-size: 12pt;\">1.1 Background</p>\n<p style=\"font-size:10pt;\">The northern UK city of Manchester is established as the single biggest tech hub outside of London, boasting a cumulative digital turnover of around \u00a32.9 billion and offering an impressive 62,653 digital jobs. Jobs in the technology industry and other modern industries attract \u2018young professionals\u2019 from all over the world. Those \u2018young professionals\u2019 like to socialise and meet new people in local bars, clubs and eateries, they have high expendable income, rent properties, and when they move to Manchester they must find somewhere to live.</p>\n<p style=\"font-size:10pt;\">As the number of jobs in modern industries has been increasing in Manchester, certain suburbs have seen substantial hikes in house prices, and people owning property in those areas have profited considerably as their houses have gained value over time. Historically people would more around much less and buy houses in the area they grew up, so I think many homeowners and landlords were fortunate that the area they lived improved. In this project I will explore the idea that having an influx of venues that appeal to young professionals such as cafes, bars, restaurants can increase value of property in a whole area. I would like to show that homebuyers and investors can use venue data to predict which suburbs are likely to see larger increases in property value in the near future and make informed decisions on where to invest more heavily.</p>\n<p style=\"font-size: 12pt;\">1.2 Problem</p>\n<p style=\"font-size:10pt;\">I will use data to explore the relationship between the number and type of venues in areas of Manchester and the price of residential properties in those areas, then determine whether it\u2019s possible to accurately predict which suburbs of Manchester are likely to see the largest increases in property value in the near future.  </p>\n<p style=\"font-size: 12pt;\">1.3 Interest</p>\n<p style=\"font-size:10pt;\">The intended goal of this project is to predict which suburbs of Manchester will see the largest increase in house prices soon, so that homebuyers and property investors can predict where to buy property to make the most money. Young professionals planning a move to Manchester may also find the results of this report useful if when trying to determine which suburb of Manchester will have lots of popular venues nearby that suit their requirements, transport links and reasonably priced rent. I will also explore which types of venue bring most money to an area, so town planners and local councils should consider offering incentives to certain small businesses looking to move to deprived areas requiring investment. Those could benefit hugely from the addition of desirable venues to their high streets.</p>\n\n"
        }
    ],
    "metadata": {
        "kernelspec": {
            "display_name": "Python 3.6",
            "language": "python",
            "name": "python3"
        },
        "language_info": {
            "codemirror_mode": {
                "name": "ipython",
                "version": 3
            },
            "file_extension": ".py",
            "mimetype": "text/x-python",
            "name": "python",
            "nbconvert_exporter": "python",
            "pygments_lexer": "ipython3",
            "version": "3.6.9"
        }
    },
    "nbformat": 4,
    "nbformat_minor": 1
}